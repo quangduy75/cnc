{
  "nbformat": 4,
  "nbformat_minor": 0,
  "metadata": {
    "colab": {
      "provenance": [],
      "include_colab_link": true
    },
    "kernelspec": {
      "name": "python3",
      "display_name": "Python 3"
    },
    "language_info": {
      "name": "python"
    },
    "accelerator": "GPU"
  },
  "cells": [
    {
      "cell_type": "markdown",
      "metadata": {
        "id": "view-in-github",
        "colab_type": "text"
      },
      "source": [
        "<a href=\"https://colab.research.google.com/github/quangduy75/cnc/blob/main/PaintTransformer.ipynb\" target=\"_parent\"><img src=\"https://colab.research.google.com/assets/colab-badge.svg\" alt=\"Open In Colab\"/></a>"
      ]
    },
    {
      "cell_type": "code",
      "metadata": {
        "colab": {
          "base_uri": "https://localhost:8080/"
        },
        "id": "xVm91xF0IXkJ",
        "outputId": "f8c59639-8580-48e4-e147-8c46d1c9548c"
      },
      "source": [
        "%cd /content\n",
        "!git clone https://github.com/lucabeetz/PaintTransformer.git\n",
        "%cd PaintTransformer/inference"
      ],
      "execution_count": null,
      "outputs": [
        {
          "output_type": "stream",
          "text": [
            "/content\n",
            "Cloning into 'PaintTransformer'...\n",
            "remote: Enumerating objects: 85, done.\u001b[K\n",
            "remote: Counting objects: 100% (85/85), done.\u001b[K\n",
            "remote: Compressing objects: 100% (80/80), done.\u001b[K\n",
            "remote: Total 85 (delta 18), reused 14 (delta 5), pack-reused 0\u001b[K\n",
            "Unpacking objects: 100% (85/85), done.\n",
            "/content/PaintTransformer/inference\n"
          ],
          "name": "stdout"
        }
      ]
    },
    {
      "cell_type": "code",
      "metadata": {
        "id": "ovrg6GqOIbzm"
      },
      "source": [
        "from inference import run_inference\n",
        "\n",
        "input_img = 'input/chicago.jpg'\n",
        "\n",
        "run_inference(input_path=input_img,\n",
        "              model_path='model.pth',\n",
        "              output_dir='output/', # whether need intermediate results for animation.\n",
        "              need_animation=True,  # resize original input to this size. None means do not resize.\n",
        "              resize_h=None,        # resize original input to this size. None means do not resize.\n",
        "              resize_w=None,\n",
        "              serial=True)          # if need animation, serial must be True."
      ],
      "execution_count": null,
      "outputs": []
    },
    {
      "cell_type": "code",
      "metadata": {
        "id": "63S0ohZmI1Qf"
      },
      "source": [
        "# Create gif from individual steps\n",
        "import glob\n",
        "from PIL import Image\n",
        "\n",
        "# Set to dir with output images\n",
        "in_dir = 'output/chicago/*.jpg'\n",
        "out_path = 'output/chicago.gif'\n",
        "\n",
        "img, *imgs = [Image.open(f) for f in sorted(glob.glob(in_dir))]\n",
        "img.save(fp=out_path, format='GIF', append_images=imgs,\n",
        "          save_all=True, duration=100, loop=0)"
      ],
      "execution_count": null,
      "outputs": []
    }
  ]
}